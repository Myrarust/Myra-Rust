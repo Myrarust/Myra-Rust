{
 "cells": [
  {
   "cell_type": "markdown",
   "metadata": {},
   "source": [
    "***Part 2:Feature Selection***"
   ]
  },
  {
   "cell_type": "code",
   "execution_count": 1,
   "metadata": {},
   "outputs": [],
   "source": [
    "# import necessary libraries\n",
    "import pandas as pd\n",
    "import matplotlib.pyplot as plt\n",
    "import numpy as np\n",
    "from sklearn.feature_selection import SelectKBest\n",
    "from sklearn.feature_selection import chi2, f_classif\n",
    "from sklearn.feature_selection import SelectPercentile"
   ]
  },
  {
   "cell_type": "code",
   "execution_count": 2,
   "metadata": {},
   "outputs": [
    {
     "name": "stdout",
     "output_type": "stream",
     "text": [
      "The dimension of the table is:  (170, 55)\n"
     ]
    }
   ],
   "source": [
    "# Load data into dataframe and check out the dimension of the data\n",
    "df = pd.read_csv('divorce.csv', sep=';')\n",
    "print(\"The dimension of the table is: \", df.shape)"
   ]
  },
  {
   "cell_type": "code",
   "execution_count": 3,
   "metadata": {},
   "outputs": [
    {
     "data": {
      "text/html": [
       "<div>\n",
       "<style scoped>\n",
       "    .dataframe tbody tr th:only-of-type {\n",
       "        vertical-align: middle;\n",
       "    }\n",
       "\n",
       "    .dataframe tbody tr th {\n",
       "        vertical-align: top;\n",
       "    }\n",
       "\n",
       "    .dataframe thead th {\n",
       "        text-align: right;\n",
       "    }\n",
       "</style>\n",
       "<table border=\"1\" class=\"dataframe\">\n",
       "  <thead>\n",
       "    <tr style=\"text-align: right;\">\n",
       "      <th></th>\n",
       "      <th>Atr1</th>\n",
       "      <th>Atr2</th>\n",
       "      <th>Atr3</th>\n",
       "      <th>Atr4</th>\n",
       "      <th>Atr5</th>\n",
       "      <th>Atr6</th>\n",
       "      <th>Atr7</th>\n",
       "      <th>Atr8</th>\n",
       "      <th>Atr9</th>\n",
       "      <th>Atr10</th>\n",
       "      <th>...</th>\n",
       "      <th>Atr46</th>\n",
       "      <th>Atr47</th>\n",
       "      <th>Atr48</th>\n",
       "      <th>Atr49</th>\n",
       "      <th>Atr50</th>\n",
       "      <th>Atr51</th>\n",
       "      <th>Atr52</th>\n",
       "      <th>Atr53</th>\n",
       "      <th>Atr54</th>\n",
       "      <th>Class</th>\n",
       "    </tr>\n",
       "  </thead>\n",
       "  <tbody>\n",
       "    <tr>\n",
       "      <th>0</th>\n",
       "      <td>2</td>\n",
       "      <td>2</td>\n",
       "      <td>4</td>\n",
       "      <td>1</td>\n",
       "      <td>0</td>\n",
       "      <td>0</td>\n",
       "      <td>0</td>\n",
       "      <td>0</td>\n",
       "      <td>0</td>\n",
       "      <td>0</td>\n",
       "      <td>...</td>\n",
       "      <td>2</td>\n",
       "      <td>1</td>\n",
       "      <td>3</td>\n",
       "      <td>3</td>\n",
       "      <td>3</td>\n",
       "      <td>2</td>\n",
       "      <td>3</td>\n",
       "      <td>2</td>\n",
       "      <td>1</td>\n",
       "      <td>1</td>\n",
       "    </tr>\n",
       "    <tr>\n",
       "      <th>1</th>\n",
       "      <td>4</td>\n",
       "      <td>4</td>\n",
       "      <td>4</td>\n",
       "      <td>4</td>\n",
       "      <td>4</td>\n",
       "      <td>0</td>\n",
       "      <td>0</td>\n",
       "      <td>4</td>\n",
       "      <td>4</td>\n",
       "      <td>4</td>\n",
       "      <td>...</td>\n",
       "      <td>2</td>\n",
       "      <td>2</td>\n",
       "      <td>3</td>\n",
       "      <td>4</td>\n",
       "      <td>4</td>\n",
       "      <td>4</td>\n",
       "      <td>4</td>\n",
       "      <td>2</td>\n",
       "      <td>2</td>\n",
       "      <td>1</td>\n",
       "    </tr>\n",
       "    <tr>\n",
       "      <th>2</th>\n",
       "      <td>2</td>\n",
       "      <td>2</td>\n",
       "      <td>2</td>\n",
       "      <td>2</td>\n",
       "      <td>1</td>\n",
       "      <td>3</td>\n",
       "      <td>2</td>\n",
       "      <td>1</td>\n",
       "      <td>1</td>\n",
       "      <td>2</td>\n",
       "      <td>...</td>\n",
       "      <td>3</td>\n",
       "      <td>2</td>\n",
       "      <td>3</td>\n",
       "      <td>1</td>\n",
       "      <td>1</td>\n",
       "      <td>1</td>\n",
       "      <td>2</td>\n",
       "      <td>2</td>\n",
       "      <td>2</td>\n",
       "      <td>1</td>\n",
       "    </tr>\n",
       "    <tr>\n",
       "      <th>3</th>\n",
       "      <td>3</td>\n",
       "      <td>2</td>\n",
       "      <td>3</td>\n",
       "      <td>2</td>\n",
       "      <td>3</td>\n",
       "      <td>3</td>\n",
       "      <td>3</td>\n",
       "      <td>3</td>\n",
       "      <td>3</td>\n",
       "      <td>3</td>\n",
       "      <td>...</td>\n",
       "      <td>2</td>\n",
       "      <td>2</td>\n",
       "      <td>3</td>\n",
       "      <td>3</td>\n",
       "      <td>3</td>\n",
       "      <td>3</td>\n",
       "      <td>2</td>\n",
       "      <td>2</td>\n",
       "      <td>2</td>\n",
       "      <td>1</td>\n",
       "    </tr>\n",
       "    <tr>\n",
       "      <th>4</th>\n",
       "      <td>2</td>\n",
       "      <td>2</td>\n",
       "      <td>1</td>\n",
       "      <td>1</td>\n",
       "      <td>1</td>\n",
       "      <td>1</td>\n",
       "      <td>0</td>\n",
       "      <td>0</td>\n",
       "      <td>0</td>\n",
       "      <td>0</td>\n",
       "      <td>...</td>\n",
       "      <td>2</td>\n",
       "      <td>1</td>\n",
       "      <td>2</td>\n",
       "      <td>3</td>\n",
       "      <td>2</td>\n",
       "      <td>2</td>\n",
       "      <td>2</td>\n",
       "      <td>1</td>\n",
       "      <td>0</td>\n",
       "      <td>1</td>\n",
       "    </tr>\n",
       "  </tbody>\n",
       "</table>\n",
       "<p>5 rows × 55 columns</p>\n",
       "</div>"
      ],
      "text/plain": [
       "   Atr1  Atr2  Atr3  Atr4  Atr5  Atr6  Atr7  Atr8  Atr9  Atr10  ...  Atr46  \\\n",
       "0     2     2     4     1     0     0     0     0     0      0  ...      2   \n",
       "1     4     4     4     4     4     0     0     4     4      4  ...      2   \n",
       "2     2     2     2     2     1     3     2     1     1      2  ...      3   \n",
       "3     3     2     3     2     3     3     3     3     3      3  ...      2   \n",
       "4     2     2     1     1     1     1     0     0     0      0  ...      2   \n",
       "\n",
       "   Atr47  Atr48  Atr49  Atr50  Atr51  Atr52  Atr53  Atr54  Class  \n",
       "0      1      3      3      3      2      3      2      1      1  \n",
       "1      2      3      4      4      4      4      2      2      1  \n",
       "2      2      3      1      1      1      2      2      2      1  \n",
       "3      2      3      3      3      3      2      2      2      1  \n",
       "4      1      2      3      2      2      2      1      0      1  \n",
       "\n",
       "[5 rows x 55 columns]"
      ]
     },
     "execution_count": 3,
     "metadata": {},
     "output_type": "execute_result"
    }
   ],
   "source": [
    "df.head()"
   ]
  },
  {
   "cell_type": "code",
   "execution_count": 4,
   "metadata": {},
   "outputs": [],
   "source": [
    "# I have categorical features and a binary target, I choose to evaluate the chi-square statistic to identify \n",
    "# independent variables for removal during feature selection\n",
    "\n",
    "# retrieve numpy array\n",
    "csDat = df.values\n",
    "\n",
    "# Identify data and target features\n",
    "features = csDat[:, :-1]\n",
    "target = csDat[:,-1]"
   ]
  },
  {
   "cell_type": "code",
   "execution_count": 5,
   "metadata": {},
   "outputs": [
    {
     "name": "stdout",
     "output_type": "stream",
     "text": [
      "Original number of features: 54\n",
      "Reduced number of features: 40\n"
     ]
    }
   ],
   "source": [
    "# Since I don't really know how many KBest to designate and my features are quantitative, I decided to use f_classif to \n",
    "# calculate ANOVA F-value statistic for each feature and the target and identify a percentile of best features.\n",
    "\n",
    "# Select top 75% of features with highest F-values\n",
    "fvalue_selector = SelectPercentile(f_classif, percentile=75)\n",
    "features_kbest = fvalue_selector.fit_transform(features, target)\n",
    "\n",
    "# Show results\n",
    "print(\"Original number of features:\", features.shape[1])\n",
    "print(\"Reduced number of features:\", features_kbest.shape[1])"
   ]
  },
  {
   "cell_type": "code",
   "execution_count": null,
   "metadata": {},
   "outputs": [],
   "source": [
    "# Not sure where to go from here...how to figure out which features were the top 40, but features_kbest is an array \n",
    "# That contains the 75% best performing features."
   ]
  },
  {
   "cell_type": "code",
   "execution_count": 6,
   "metadata": {},
   "outputs": [
    {
     "data": {
      "text/plain": [
       "SelectKBest(k='all', score_func=<function chi2 at 0x0000016857DBE3A0>)"
      ]
     },
     "execution_count": 6,
     "metadata": {},
     "output_type": "execute_result"
    }
   ],
   "source": [
    "# Take a different approach to identify the KBest\n",
    "fs = SelectKBest(score_func=chi2, k='all')\n",
    "fs.fit(features, target)"
   ]
  },
  {
   "cell_type": "code",
   "execution_count": 7,
   "metadata": {
    "scrolled": true
   },
   "outputs": [
    {
     "name": "stdout",
     "output_type": "stream",
     "text": [
      "Feature 1: 186.8848063482285\n",
      "Feature 2: 148.5646677937914\n",
      "Feature 3: 124.86272609819119\n",
      "Feature 4: 173.30274965283266\n",
      "Feature 5: 233.04633621600595\n",
      "Feature 6: 32.7564330621463\n",
      "Feature 7: 82.000006591784\n",
      "Feature 8: 210.3169282777606\n",
      "Feature 9: 234.06994829064408\n",
      "Feature 10: 151.00039875373955\n",
      "Feature 11: 229.05224165673073\n",
      "Feature 12: 166.52922248101427\n",
      "Feature 13: 143.62384643779984\n",
      "Feature 14: 181.5312586841199\n",
      "Feature 15: 198.39810079593195\n",
      "Feature 16: 203.4334621646305\n",
      "Feature 17: 230.17948081326384\n",
      "Feature 18: 232.75429017830314\n",
      "Feature 19: 239.13623048619291\n",
      "Feature 20: 230.19977315757507\n",
      "Feature 21: 191.86480329222738\n",
      "Feature 22: 193.4412440711256\n",
      "Feature 23: 218.19773209671462\n",
      "Feature 24: 178.25841229623688\n",
      "Feature 25: 178.36037116550926\n",
      "Feature 26: 194.78408817337026\n",
      "Feature 27: 193.88834836260082\n",
      "Feature 28: 199.8353860505023\n",
      "Feature 29: 228.67468019985873\n",
      "Feature 30: 195.78990634891568\n",
      "Feature 31: 135.61506121484865\n",
      "Feature 32: 148.6996124031008\n",
      "Feature 33: 221.26349735409656\n",
      "Feature 34: 164.94121932738824\n",
      "Feature 35: 255.47433632804575\n",
      "Feature 36: 267.489029243182\n",
      "Feature 37: 177.74183862867125\n",
      "Feature 38: 213.48922018027105\n",
      "Feature 39: 192.1763136961303\n",
      "Feature 40: 256.79032156961074\n",
      "Feature 41: 200.9566015608411\n",
      "Feature 42: 106.1025706017785\n",
      "Feature 43: 36.41244161972168\n",
      "Feature 44: 177.31870196986478\n",
      "Feature 45: 46.174124529081666\n",
      "Feature 46: 24.498374593648393\n",
      "Feature 47: 80.75414852047575\n",
      "Feature 48: 30.63950399003795\n",
      "Feature 49: 88.92747768070765\n",
      "Feature 50: 78.33819471817102\n",
      "Feature 51: 52.002619928819996\n",
      "Feature 52: 62.11258551453615\n",
      "Feature 53: 86.45775237397646\n",
      "Feature 54: 152.052419485406\n"
     ]
    }
   ],
   "source": [
    "# Print the scores of each feature. The higher the better.\n",
    "for i in range(len(fs.scores_)):\n",
    "    print('Feature {}: {}'.format (i+1, fs.scores_[i]))"
   ]
  },
  {
   "cell_type": "code",
   "execution_count": 8,
   "metadata": {},
   "outputs": [
    {
     "data": {
      "image/png": "[encoded data removed]",
      "text/plain": [
       "<Figure size 432x288 with 1 Axes>"
      ]
     },
     "metadata": {
      "needs_background": "light"
     },
     "output_type": "display_data"
    }
   ],
   "source": [
    "# Plot feature scores as a bar graph\n",
    "plt.bar([i for i in range(len(fs.scores_))], fs.scores_)\n",
    "plt.title(\"Bar Chart of Score by Attribute\")\n",
    "plt.xlabel(\"Attribute Number\")\n",
    "plt.ylabel(\"KBest Score\")\n",
    "plt.show()"
   ]
  },
  {
   "cell_type": "code",
   "execution_count": 9,
   "metadata": {
    "scrolled": true
   },
   "outputs": [
    {
     "data": {
      "text/plain": [
       "array([267.48902924, 256.79032157, 255.47433633, 239.13623049,\n",
       "       234.06994829, 233.04633622, 232.75429018, 230.19977316,\n",
       "       230.17948081, 229.05224166, 228.6746802 , 221.26349735,\n",
       "       218.1977321 , 213.48922018, 210.31692828, 203.43346216,\n",
       "       200.95660156, 199.83538605, 198.3981008 , 195.78990635,\n",
       "       194.78408817, 193.88834836, 193.44124407, 192.1763137 ,\n",
       "       191.86480329, 186.88480635, 181.53125868, 178.36037117,\n",
       "       178.2584123 , 177.74183863, 177.31870197, 173.30274965,\n",
       "       166.52922248, 164.94121933, 152.05241949, 151.00039875,\n",
       "       148.6996124 , 148.56466779, 143.62384644, 135.61506121,\n",
       "       124.8627261 , 106.1025706 ,  88.92747768,  86.45775237,\n",
       "        82.00000659,  80.75414852,  78.33819472,  62.11258551,\n",
       "        52.00261993,  46.17412453,  36.41244162,  32.75643306,\n",
       "        30.63950399,  24.49837459])"
      ]
     },
     "execution_count": 9,
     "metadata": {},
     "output_type": "execute_result"
    }
   ],
   "source": [
    "# Looking at the bar graph, I would choose a score of >100 as a point to separate valuable/less valuable features. \n",
    "# Now I just want to look at the array of scores in descending order.\n",
    "fsScore_desc = np.sort(fs.scores_)[::-1]\n",
    "fsScore_desc"
   ]
  },
  {
   "cell_type": "code",
   "execution_count": 10,
   "metadata": {
    "scrolled": true
   },
   "outputs": [],
   "source": [
    "# Total number of scores <100 is 12. With 54 total features, that leaves 42 features that scored above 100, which is very\n",
    "# close to the top 75% number of 40 features. "
   ]
  },
  {
   "cell_type": "markdown",
   "metadata": {},
   "source": [
    "***Part 3:Model Selection***"
   ]
  },
  {
   "cell_type": "code",
   "execution_count": 11,
   "metadata": {},
   "outputs": [],
   "source": [
    "# Create a whole features dataset that can be used for train and validation data splitting\n",
    "\n",
    "# Remove 12 features that scored <100\n",
    "data_model_X = df.drop(['Atr6', 'Atr7', 'Atr43', 'Atr45', 'Atr46', 'Atr47', 'Atr48', 'Atr49', 'Atr50',\n",
    "                    'Atr51', 'Atr52', 'Atr53'], axis=1)"
   ]
  },
  {
   "cell_type": "code",
   "execution_count": 12,
   "metadata": {},
   "outputs": [],
   "source": [
    "# Label values for the target class\n",
    "data_model_y = df['Class'].replace({'Married': {1: 'Married', 0: 'Divorced'}})"
   ]
  },
  {
   "cell_type": "code",
   "execution_count": 13,
   "metadata": {},
   "outputs": [],
   "source": [
    "# separate data into training and validation and check the details of the datasets\n",
    "# import packages\n",
    "from sklearn.model_selection import train_test_split"
   ]
  },
  {
   "cell_type": "code",
   "execution_count": 14,
   "metadata": {},
   "outputs": [],
   "source": [
    "# split the data\n",
    "X_train, X_val, y_train, y_val = train_test_split(data_model_X, data_model_y, test_size =0.3, random_state=11)"
   ]
  },
  {
   "cell_type": "code",
   "execution_count": 15,
   "metadata": {},
   "outputs": [
    {
     "name": "stdout",
     "output_type": "stream",
     "text": [
      "No. of samples in training set:  119\n",
      "No. of samples in validation set: 51\n"
     ]
    }
   ],
   "source": [
    "# number of samples in each set\n",
    "print(\"No. of samples in training set: \", X_train.shape[0])\n",
    "print(\"No. of samples in validation set:\", X_val.shape[0])"
   ]
  },
  {
   "cell_type": "code",
   "execution_count": 16,
   "metadata": {},
   "outputs": [
    {
     "name": "stdout",
     "output_type": "stream",
     "text": [
      "\n",
      "\n",
      "No. of married and divorced in the training set:\n",
      "1    60\n",
      "0    59\n",
      "Name: Class, dtype: int64\n",
      "\n",
      "\n",
      "No. of married and divorced in the validation set:\n",
      "0    27\n",
      "1    24\n",
      "Name: Class, dtype: int64\n"
     ]
    }
   ],
   "source": [
    "# Married and Divorced\n",
    "print('\\n')\n",
    "print('No. of married and divorced in the training set:')\n",
    "print(y_train.value_counts())\n",
    "\n",
    "print('\\n')\n",
    "print('No. of married and divorced in the validation set:')\n",
    "print(y_val.value_counts())"
   ]
  },
  {
   "cell_type": "code",
   "execution_count": 24,
   "metadata": {},
   "outputs": [],
   "source": [
    "# Okay, now I'm ready to select a model. Since I have a classification problem and not very many observations, I am \n",
    "# choosing to use the RandomForestClassifier\n",
    "# Import libraries\n",
    "from sklearn.ensemble import RandomForestClassifier\n",
    "\n",
    "# Create the model\n",
    "model = RandomForestClassifier(random_state=0, n_jobs=-1)"
   ]
  },
  {
   "cell_type": "code",
   "execution_count": 25,
   "metadata": {},
   "outputs": [
    {
     "name": "stderr",
     "output_type": "stream",
     "text": [
      "C:\\Users\\myraw\\anaconda3\\lib\\site-packages\\sklearn\\base.py:209: FutureWarning: From version 0.24, get_params will raise an AttributeError if a parameter cannot be retrieved as an instance attribute. Previously it would return None.\n",
      "  warnings.warn('From version 0.24, get_params will raise an '\n"
     ]
    },
    {
     "data": {
      "image/png": "[encoded data removed]",
      "text/plain": [
       "<Figure size 1080x504 with 1 Axes>"
      ]
     },
     "metadata": {
      "needs_background": "light"
     },
     "output_type": "display_data"
    },
    {
     "data": {
      "text/plain": [
       "<matplotlib.axes._subplots.AxesSubplot at 0x1685bca4880>"
      ]
     },
     "execution_count": 25,
     "metadata": {},
     "output_type": "execute_result"
    }
   ],
   "source": [
    "# fit the model and view confusion matrix results\n",
    "classes = ['Divorced','Married']\n",
    "cm = ConfusionMatrix(model, classes=classes, percent=False)\n",
    "cm.fit(X_train, y_train)\n",
    "\n",
    "# Use the test data to make predictions and score the results\n",
    "cm.score(X_val, y_val)\n",
    "\n",
    "# change fontsize of the labels in the figure\n",
    "for label in cm.ax.texts:\n",
    "    label.set_size(20)\n",
    "\n",
    "cm.poof()"
   ]
  },
  {
   "cell_type": "code",
   "execution_count": 26,
   "metadata": {},
   "outputs": [
    {
     "name": "stderr",
     "output_type": "stream",
     "text": [
      "C:\\Users\\myraw\\anaconda3\\lib\\site-packages\\sklearn\\base.py:209: FutureWarning: From version 0.24, get_params will raise an AttributeError if a parameter cannot be retrieved as an instance attribute. Previously it would return None.\n",
      "  warnings.warn('From version 0.24, get_params will raise an '\n"
     ]
    },
    {
     "data": {
      "image/png": "[encoded data removed]",
      "text/plain": [
       "<Figure size 1080x504 with 2 Axes>"
      ]
     },
     "metadata": {
      "needs_background": "light"
     },
     "output_type": "display_data"
    }
   ],
   "source": [
    "# Check the Precision, Recall, and F1 Score\n",
    "%matplotlib inline\n",
    "\n",
    "# import libraries\n",
    "from yellowbrick.classifier import ClassificationReport\n",
    "\n",
    "# set the size of the figure and the font size \n",
    "plt.rcParams['figure.figsize'] = (15, 7)\n",
    "plt.rcParams['font.size'] = 20\n",
    "\n",
    "# Instantiate the visualizer\n",
    "visualizer = ClassificationReport(model, classes=classes)\n",
    "\n",
    "visualizer.fit(X_train, y_train)  # Fit the training data to the visualizer\n",
    "visualizer.score(X_val, y_val)  # Evaluate the model on the test data\n",
    "g = visualizer.poof()"
   ]
  },
  {
   "cell_type": "code",
   "execution_count": 27,
   "metadata": {},
   "outputs": [],
   "source": [
    "# The results of the RandomForestClassifier are outstanding, but I still want to try LogisticRegression too.\n",
    "# Import libraries\n",
    "from sklearn.linear_model import LogisticRegression\n",
    "\n",
    "# Create the model\n",
    "logit_model = LogisticRegression(random_state=0, max_iter=1001)"
   ]
  },
  {
   "cell_type": "code",
   "execution_count": 28,
   "metadata": {},
   "outputs": [
    {
     "name": "stderr",
     "output_type": "stream",
     "text": [
      "C:\\Users\\myraw\\anaconda3\\lib\\site-packages\\sklearn\\base.py:209: FutureWarning: From version 0.24, get_params will raise an AttributeError if a parameter cannot be retrieved as an instance attribute. Previously it would return None.\n",
      "  warnings.warn('From version 0.24, get_params will raise an '\n"
     ]
    },
    {
     "data": {
      "image/png": "[encoded data removed]",
      "text/plain": [
       "<Figure size 1080x504 with 1 Axes>"
      ]
     },
     "metadata": {
      "needs_background": "light"
     },
     "output_type": "display_data"
    },
    {
     "data": {
      "text/plain": [
       "<matplotlib.axes._subplots.AxesSubplot at 0x1685b8d33d0>"
      ]
     },
     "execution_count": 28,
     "metadata": {},
     "output_type": "execute_result"
    }
   ],
   "source": [
    "# fit the model and view confusion matrix results\n",
    "classes = ['Divorced','Married']\n",
    "cm = ConfusionMatrix(logit_model, classes=classes, percent=False)\n",
    "cm.fit(X_train, y_train)\n",
    "\n",
    "# Use the test data to make predictions and score the results\n",
    "cm.score(X_val, y_val)\n",
    "\n",
    "# change fontsize of the labels in the figure\n",
    "for label in cm.ax.texts:\n",
    "    label.set_size(20)\n",
    "\n",
    "cm.poof()"
   ]
  },
  {
   "cell_type": "code",
   "execution_count": 29,
   "metadata": {},
   "outputs": [
    {
     "name": "stderr",
     "output_type": "stream",
     "text": [
      "C:\\Users\\myraw\\anaconda3\\lib\\site-packages\\sklearn\\base.py:209: FutureWarning: From version 0.24, get_params will raise an AttributeError if a parameter cannot be retrieved as an instance attribute. Previously it would return None.\n",
      "  warnings.warn('From version 0.24, get_params will raise an '\n"
     ]
    },
    {
     "data": {
      "image/png": "[encoded data removed]",
      "text/plain": [
       "<Figure size 1080x504 with 2 Axes>"
      ]
     },
     "metadata": {
      "needs_background": "light"
     },
     "output_type": "display_data"
    }
   ],
   "source": [
    "# Check the Precision, Recall, and F1 Score\n",
    "# set the size of the figure and the font size \n",
    "plt.rcParams['figure.figsize'] = (15, 7)\n",
    "plt.rcParams['font.size'] = 20\n",
    "\n",
    "# Instantiate the visualizer\n",
    "visualizer = ClassificationReport(logit_model, classes=classes)\n",
    "\n",
    "visualizer.fit(X_train, y_train)  # Fit the training data to the visualizer\n",
    "visualizer.score(X_val, y_val)  # Evaluate the model on the test data\n",
    "g = visualizer.poof()"
   ]
  },
  {
   "cell_type": "code",
   "execution_count": 30,
   "metadata": {},
   "outputs": [],
   "source": [
    "#Hmmm...exactly the same scores. \n",
    "# I want to try using GridSearchCV to see if I can identify a better model\n",
    "# import libraries\n",
    "from sklearn.model_selection import GridSearchCV\n",
    "\n",
    "# Create hyperparameter values\n",
    "n_estimators = [10, 100, 1000]\n",
    "max_features = [.05, .10, .15, .20, .25]\n",
    "\n",
    "# Create dictionary of hyperparameter candidates\n",
    "hyperparameters = dict(n_estimators=n_estimators, max_features=max_features)\n",
    "\n",
    "# Create grid search\n",
    "gridsearch = GridSearchCV(model, hyperparameters, cv=5, verbose=0)\n",
    "\n",
    "# Fit grid search\n",
    "best_model = gridsearch.fit(X_train, y_train)"
   ]
  },
  {
   "cell_type": "code",
   "execution_count": 32,
   "metadata": {},
   "outputs": [
    {
     "name": "stdout",
     "output_type": "stream",
     "text": [
      "Best n_estimators: 10\n",
      "Best max_features: 0.05\n"
     ]
    }
   ],
   "source": [
    "# View grid search results \n",
    "print('Best n_estimators:', best_model.best_estimator_.get_params()['n_estimators'])\n",
    "print('Best max_features:', best_model.best_estimator_.get_params()['max_features'])"
   ]
  },
  {
   "cell_type": "code",
   "execution_count": 35,
   "metadata": {
    "scrolled": true
   },
   "outputs": [
    {
     "name": "stderr",
     "output_type": "stream",
     "text": [
      "C:\\Users\\myraw\\anaconda3\\lib\\site-packages\\sklearn\\base.py:209: FutureWarning: From version 0.24, get_params will raise an AttributeError if a parameter cannot be retrieved as an instance attribute. Previously it would return None.\n",
      "  warnings.warn('From version 0.24, get_params will raise an '\n"
     ]
    },
    {
     "data": {
      "image/png": "[encoded data removed]",
      "text/plain": [
       "<Figure size 1080x504 with 1 Axes>"
      ]
     },
     "metadata": {
      "needs_background": "light"
     },
     "output_type": "display_data"
    },
    {
     "data": {
      "text/plain": [
       "<matplotlib.axes._subplots.AxesSubplot at 0x1685c055e50>"
      ]
     },
     "execution_count": 35,
     "metadata": {},
     "output_type": "execute_result"
    }
   ],
   "source": [
    "# Now let's view the confusion matrix for this best_model\n",
    "classes = ['Divorced','Married']\n",
    "cm = ConfusionMatrix(best_model, classes=classes, percent=False)\n",
    "\n",
    "#Fit the model\n",
    "cm.fit(X_train, y_train)\n",
    "\n",
    "# Use the test data to make predictions and score the results\n",
    "cm.score(X_val, y_val)\n",
    "\n",
    "# change fontsize of the labels in the figure\n",
    "for label in cm.ax.texts:\n",
    "    label.set_size(20)\n",
    "\n",
    "cm.poof()"
   ]
  },
  {
   "cell_type": "code",
   "execution_count": 36,
   "metadata": {},
   "outputs": [
    {
     "name": "stderr",
     "output_type": "stream",
     "text": [
      "C:\\Users\\myraw\\anaconda3\\lib\\site-packages\\sklearn\\base.py:209: FutureWarning: From version 0.24, get_params will raise an AttributeError if a parameter cannot be retrieved as an instance attribute. Previously it would return None.\n",
      "  warnings.warn('From version 0.24, get_params will raise an '\n"
     ]
    },
    {
     "data": {
      "image/png": "[encoded data removed]",
      "text/plain": [
       "<Figure size 1080x504 with 2 Axes>"
      ]
     },
     "metadata": {
      "needs_background": "light"
     },
     "output_type": "display_data"
    }
   ],
   "source": [
    "# Check the Precision, Recall, and F1 Score\n",
    "# set the size of the figure and the font size \n",
    "plt.rcParams['figure.figsize'] = (15, 7)\n",
    "plt.rcParams['font.size'] = 20\n",
    "\n",
    "# Instantiate the visualizer\n",
    "visualizer = ClassificationReport(best_model, classes=classes)\n",
    "\n",
    "visualizer.fit(X_train, y_train)  # Fit the training data to the visualizer\n",
    "visualizer.score(X_val, y_val)  # Evaluate the model on the test data\n",
    "g = visualizer.poof()"
   ]
  },
  {
   "cell_type": "code",
   "execution_count": 38,
   "metadata": {},
   "outputs": [],
   "source": [
    "# Not sure about all the scores being exactly the same. Wish my dataset had more observations and therefore more data \n",
    "# to use for validation. I just want to try one last thing...resplitting the train-test data sets and see the results.\n",
    "X_train, X_val, y_train, y_val = train_test_split(data_model_X, data_model_y, test_size =0.3, random_state=8)"
   ]
  },
  {
   "cell_type": "code",
   "execution_count": 39,
   "metadata": {},
   "outputs": [
    {
     "name": "stdout",
     "output_type": "stream",
     "text": [
      "\n",
      "\n",
      "No. of married and divorced in the training set:\n",
      "0    63\n",
      "1    56\n",
      "Name: Class, dtype: int64\n",
      "\n",
      "\n",
      "No. of married and divorced in the validation set:\n",
      "1    28\n",
      "0    23\n",
      "Name: Class, dtype: int64\n"
     ]
    }
   ],
   "source": [
    "# Married and Divorced\n",
    "print('\\n')\n",
    "print('No. of married and divorced in the training set:')\n",
    "print(y_train.value_counts())\n",
    "\n",
    "print('\\n')\n",
    "print('No. of married and divorced in the validation set:')\n",
    "print(y_val.value_counts())"
   ]
  },
  {
   "cell_type": "code",
   "execution_count": 42,
   "metadata": {
    "scrolled": true
   },
   "outputs": [
    {
     "name": "stderr",
     "output_type": "stream",
     "text": [
      "C:\\Users\\myraw\\anaconda3\\lib\\site-packages\\sklearn\\base.py:209: FutureWarning: From version 0.24, get_params will raise an AttributeError if a parameter cannot be retrieved as an instance attribute. Previously it would return None.\n",
      "  warnings.warn('From version 0.24, get_params will raise an '\n"
     ]
    },
    {
     "data": {
      "image/png": "[encoded data removed]",
      "text/plain": [
       "<Figure size 1080x504 with 1 Axes>"
      ]
     },
     "metadata": {
      "needs_background": "light"
     },
     "output_type": "display_data"
    },
    {
     "data": {
      "text/plain": [
       "<matplotlib.axes._subplots.AxesSubplot at 0x1685bf196a0>"
      ]
     },
     "execution_count": 42,
     "metadata": {},
     "output_type": "execute_result"
    }
   ],
   "source": [
    "classes = ['Divorced','Married']\n",
    "cm = ConfusionMatrix(best_model, classes=classes, percent=False)\n",
    "\n",
    "#Fit the model\n",
    "cm.fit(X_train, y_train)\n",
    "\n",
    "# Use the test data to make predictions and score the results\n",
    "cm.score(X_val, y_val)\n",
    "\n",
    "# change fontsize of the labels in the figure\n",
    "for label in cm.ax.texts:\n",
    "    label.set_size(20)\n",
    "\n",
    "cm.poof()"
   ]
  },
  {
   "cell_type": "code",
   "execution_count": 41,
   "metadata": {
    "scrolled": true
   },
   "outputs": [
    {
     "name": "stderr",
     "output_type": "stream",
     "text": [
      "C:\\Users\\myraw\\anaconda3\\lib\\site-packages\\sklearn\\base.py:209: FutureWarning: From version 0.24, get_params will raise an AttributeError if a parameter cannot be retrieved as an instance attribute. Previously it would return None.\n",
      "  warnings.warn('From version 0.24, get_params will raise an '\n"
     ]
    },
    {
     "data": {
      "image/png": "[encoded data removed]",
      "text/plain": [
       "<Figure size 1080x504 with 2 Axes>"
      ]
     },
     "metadata": {
      "needs_background": "light"
     },
     "output_type": "display_data"
    }
   ],
   "source": [
    "# Check the Precision, Recall, and F1 Score\n",
    "# set the size of the figure and the font size \n",
    "plt.rcParams['figure.figsize'] = (15, 7)\n",
    "plt.rcParams['font.size'] = 20\n",
    "\n",
    "# Instantiate the visualizer\n",
    "visualizer = ClassificationReport(best_model, classes=classes)\n",
    "\n",
    "visualizer.fit(X_train, y_train)  # Fit the training data to the visualizer\n",
    "visualizer.score(X_val, y_val)  # Evaluate the model on the test data\n",
    "g = visualizer.poof()"
   ]
  },
  {
   "cell_type": "code",
   "execution_count": null,
   "metadata": {},
   "outputs": [],
   "source": [
    "# The predictions and scores got even better. It may be possible that this model is overfit."
   ]
  }
 ],
 "metadata": {
  "kernelspec": {
   "display_name": "Python 3",
   "language": "python",
   "name": "python3"
  },
  "language_info": {
   "codemirror_mode": {
    "name": "ipython",
    "version": 3
   },
   "file_extension": ".py",
   "mimetype": "text/x-python",
   "name": "python",
   "nbconvert_exporter": "python",
   "pygments_lexer": "ipython3",
   "version": "3.8.8"
  }
 },
 "nbformat": 4,
 "nbformat_minor": 4
}

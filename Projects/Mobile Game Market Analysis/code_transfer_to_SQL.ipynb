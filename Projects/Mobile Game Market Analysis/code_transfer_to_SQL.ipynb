{
 "cells": [
  {
   "cell_type": "markdown",
   "metadata": {},
   "source": [
    "***Storing the data in a SQL database***"
   ]
  },
  {
   "cell_type": "code",
   "execution_count": 53,
   "metadata": {},
   "outputs": [],
   "source": [
    "# import necessary libraries\n",
    "import sqlite3\n",
    "import pandas as pd"
   ]
  },
  {
   "cell_type": "code",
   "execution_count": 2,
   "metadata": {},
   "outputs": [],
   "source": [
    "# Read in previously created CSVs that contain my three data source datasets\n",
    "top_games = pd.read_csv('top_games.csv') \n",
    "google_games = pd.read_csv('google_games.csv') \n",
    "game_deals = pd.read_csv('game_deals.csv') "
   ]
  },
  {
   "cell_type": "code",
   "execution_count": 8,
   "metadata": {},
   "outputs": [
    {
     "data": {
      "text/html": [
       "<div>\n",
       "<style scoped>\n",
       "    .dataframe tbody tr th:only-of-type {\n",
       "        vertical-align: middle;\n",
       "    }\n",
       "\n",
       "    .dataframe tbody tr th {\n",
       "        vertical-align: top;\n",
       "    }\n",
       "\n",
       "    .dataframe thead th {\n",
       "        text-align: right;\n",
       "    }\n",
       "</style>\n",
       "<table border=\"1\" class=\"dataframe\">\n",
       "  <thead>\n",
       "    <tr style=\"text-align: right;\">\n",
       "      <th></th>\n",
       "      <th>Unnamed: 0</th>\n",
       "      <th>google rating</th>\n",
       "      <th>game</th>\n",
       "      <th>google num reviews</th>\n",
       "      <th>google num installs</th>\n",
       "      <th>google price</th>\n",
       "      <th>content rating</th>\n",
       "      <th>genres</th>\n",
       "    </tr>\n",
       "  </thead>\n",
       "  <tbody>\n",
       "    <tr>\n",
       "      <th>0</th>\n",
       "      <td>1653</td>\n",
       "      <td>4.5</td>\n",
       "      <td>roblox</td>\n",
       "      <td>4447388</td>\n",
       "      <td>100000000</td>\n",
       "      <td>0.0</td>\n",
       "      <td>everyone 10+</td>\n",
       "      <td>adventure;action &amp; adventure</td>\n",
       "    </tr>\n",
       "    <tr>\n",
       "      <th>1</th>\n",
       "      <td>1654</td>\n",
       "      <td>4.5</td>\n",
       "      <td>subway surfers</td>\n",
       "      <td>27722264</td>\n",
       "      <td>1000000000</td>\n",
       "      <td>0.0</td>\n",
       "      <td>everyone 10+</td>\n",
       "      <td>arcade</td>\n",
       "    </tr>\n",
       "    <tr>\n",
       "      <th>2</th>\n",
       "      <td>1655</td>\n",
       "      <td>4.4</td>\n",
       "      <td>candy crush saga</td>\n",
       "      <td>22426677</td>\n",
       "      <td>500000000</td>\n",
       "      <td>0.0</td>\n",
       "      <td>everyone</td>\n",
       "      <td>casual</td>\n",
       "    </tr>\n",
       "    <tr>\n",
       "      <th>3</th>\n",
       "      <td>1656</td>\n",
       "      <td>4.7</td>\n",
       "      <td>solitaire</td>\n",
       "      <td>254258</td>\n",
       "      <td>10000000</td>\n",
       "      <td>0.0</td>\n",
       "      <td>everyone</td>\n",
       "      <td>card</td>\n",
       "    </tr>\n",
       "    <tr>\n",
       "      <th>4</th>\n",
       "      <td>1657</td>\n",
       "      <td>4.5</td>\n",
       "      <td>bubble shooter</td>\n",
       "      <td>148897</td>\n",
       "      <td>10000000</td>\n",
       "      <td>0.0</td>\n",
       "      <td>everyone</td>\n",
       "      <td>casual</td>\n",
       "    </tr>\n",
       "  </tbody>\n",
       "</table>\n",
       "</div>"
      ],
      "text/plain": [
       "   Unnamed: 0  google rating              game  google num reviews  \\\n",
       "0        1653            4.5            roblox             4447388   \n",
       "1        1654            4.5    subway surfers            27722264   \n",
       "2        1655            4.4  candy crush saga            22426677   \n",
       "3        1656            4.7         solitaire              254258   \n",
       "4        1657            4.5    bubble shooter              148897   \n",
       "\n",
       "   google num installs  google price content rating  \\\n",
       "0            100000000           0.0   everyone 10+   \n",
       "1           1000000000           0.0   everyone 10+   \n",
       "2            500000000           0.0       everyone   \n",
       "3             10000000           0.0       everyone   \n",
       "4             10000000           0.0       everyone   \n",
       "\n",
       "                         genres  \n",
       "0  adventure;action & adventure  \n",
       "1                        arcade  \n",
       "2                        casual  \n",
       "3                          card  \n",
       "4                        casual  "
      ]
     },
     "execution_count": 8,
     "metadata": {},
     "output_type": "execute_result"
    }
   ],
   "source": [
    "# An Unnamed column showed up in all my csv's, not sure why.\n",
    "google_games.head()"
   ]
  },
  {
   "cell_type": "code",
   "execution_count": 9,
   "metadata": {},
   "outputs": [],
   "source": [
    "# Remove the Unnamed columns\n",
    "top_games = top_games.drop(columns=['Unnamed: 0'])\n",
    "google_games = google_games.drop(columns=['Unnamed: 0'])\n",
    "game_deals = game_deals.drop(columns=['Unnamed: 0'])"
   ]
  },
  {
   "cell_type": "code",
   "execution_count": 14,
   "metadata": {},
   "outputs": [],
   "source": [
    "# Create the database that I want to store my tables in\n",
    "conn = sqlite3.connect('games.db')\n",
    "c = conn.cursor()"
   ]
  },
  {
   "cell_type": "code",
   "execution_count": 15,
   "metadata": {},
   "outputs": [],
   "source": [
    "# Create a table for the top 50 game data\n",
    "c.execute('CREATE TABLE top_games (game, top_ranking, worldwide_revenue, release_date, publisher, genres)')\n",
    "conn.commit()"
   ]
  },
  {
   "cell_type": "code",
   "execution_count": 16,
   "metadata": {},
   "outputs": [],
   "source": [
    "# Create a table for the google playstore game data\n",
    "c.execute('CREATE TABLE google_games (google_rating, game, google_num_reviews, google_num_installs, google_price, content_rating, genres)')\n",
    "conn.commit()"
   ]
  },
  {
   "cell_type": "code",
   "execution_count": 17,
   "metadata": {},
   "outputs": [],
   "source": [
    "# Create a table for the game sale data\n",
    "c.execute('CREATE TABLE game_deals (game, cheapshark_id, sale_price, reg_price, percent_savings, critic_score, rating_disposition, steam_rating, steam_num_reviews, deal_rating)')\n",
    "conn.commit()"
   ]
  },
  {
   "cell_type": "code",
   "execution_count": 18,
   "metadata": {
    "scrolled": true
   },
   "outputs": [
    {
     "name": "stderr",
     "output_type": "stream",
     "text": [
      "C:\\Users\\myraw\\anaconda3\\lib\\site-packages\\pandas\\core\\generic.py:2653: UserWarning: The spaces in these column names will not be changed. In pandas versions < 0.14, spaces were converted to underscores.\n",
      "  sql.to_sql(\n"
     ]
    }
   ],
   "source": [
    "# Load the pandas dataframe data into the corresponding SQL tables\n",
    "top_games.to_sql('top_games', conn, if_exists='replace', index = False)\n",
    "google_games.to_sql('google_games', conn, if_exists='replace', index = False)\n",
    "game_deals.to_sql('game_deals', conn, if_exists='replace', index = False)"
   ]
  },
  {
   "cell_type": "code",
   "execution_count": 19,
   "metadata": {},
   "outputs": [],
   "source": [
    "# Close the database after inserting tables and data\n",
    "conn.close()"
   ]
  },
  {
   "cell_type": "code",
   "execution_count": 20,
   "metadata": {},
   "outputs": [
    {
     "name": "stdout",
     "output_type": "stream",
     "text": [
      "(1, 'monster strike', 8239000000, 'august 8, 2013', 'mixi', 'physics / rpg / puzzle')\n",
      "(2, 'honor of kings / arena of valor', 7810200000, 'november 26, 2015', 'tencent games', 'moba')\n",
      "(3, 'puzzle & dragons', 7712000000, 'february 20, 2012', 'gungho online entertainment', 'puzzle / rpg')\n",
      "(4, 'clash of clans', 7000000000, 'august 2, 2012', 'supercell (tencent)', 'strategy')\n",
      "(5, 'candy crush saga', 5410000000, 'november 14, 2012', 'king (activision blizzard)', 'puzzle')\n"
     ]
    }
   ],
   "source": [
    "# Create a query for each of the tables in sqlite3, just to make sure that they were loaded correctly\n",
    "with sqlite3.connect(\"games.db\") as conn:\n",
    "    cursor = conn.cursor()\n",
    "    rows = cursor.execute('SELECT * FROM top_games LIMIT 5')\n",
    "    for row in rows:\n",
    "        print(row)"
   ]
  },
  {
   "cell_type": "code",
   "execution_count": 21,
   "metadata": {},
   "outputs": [
    {
     "name": "stdout",
     "output_type": "stream",
     "text": [
      "(4.5, 'roblox', 4447388, 100000000, 0.0, 'everyone 10+', 'adventure;action & adventure')\n",
      "(4.5, 'subway surfers', 27722264, 1000000000, 0.0, 'everyone 10+', 'arcade')\n",
      "(4.4, 'candy crush saga', 22426677, 500000000, 0.0, 'everyone', 'casual')\n",
      "(4.7, 'solitaire', 254258, 10000000, 0.0, 'everyone', 'card')\n",
      "(4.5, 'bubble shooter', 148897, 10000000, 0.0, 'everyone', 'casual')\n"
     ]
    }
   ],
   "source": [
    "with sqlite3.connect(\"games.db\") as conn:\n",
    "    cursor = conn.cursor()\n",
    "    rows = cursor.execute('SELECT * FROM google_games LIMIT 5')\n",
    "    for row in rows:\n",
    "        print(row)"
   ]
  },
  {
   "cell_type": "code",
   "execution_count": 22,
   "metadata": {
    "scrolled": true
   },
   "outputs": [
    {
     "name": "stdout",
     "output_type": "stream",
     "text": [
      "('naruto to boruto shinobi striker - deluxe edition', 189692, 11.99, 79.98, 85, 0, 'none', 0, 0, 10.0)\n",
      "(\"ni no kuni ii: revenant kingdom - the prince's edition\", 171780, 11.99, 79.98, 85, 0, 'none', 0, 0, 10.0)\n",
      "('project cars 2 - deluxe edition', 170776, 13.49, 89.99, 85, 0, 'none', 0, 0, 10.0)\n",
      "('dragon ball fighter z  fighterz edition', 174472, 14.24, 94.98, 85, 0, 'none', 0, 0, 10.0)\n",
      "('dragon ball fighter z  ultimate edition', 174473, 16.49, 109.97, 85, 0, 'none', 0, 0, 10.0)\n"
     ]
    }
   ],
   "source": [
    "with sqlite3.connect(\"games.db\") as conn:\n",
    "    cursor = conn.cursor()\n",
    "    rows = cursor.execute('SELECT * FROM game_deals LIMIT 5')\n",
    "    for row in rows:\n",
    "        print(row)"
   ]
  },
  {
   "cell_type": "markdown",
   "metadata": {},
   "source": [
    "***Merging the Data***"
   ]
  },
  {
   "cell_type": "code",
   "execution_count": 23,
   "metadata": {},
   "outputs": [
    {
     "ename": "OperationalError",
     "evalue": "RIGHT and FULL OUTER JOINs are not currently supported",
     "output_type": "error",
     "traceback": [
      "\u001b[1;31m---------------------------------------------------------------------------\u001b[0m",
      "\u001b[1;31mOperationalError\u001b[0m                          Traceback (most recent call last)",
      "\u001b[1;32m<ipython-input-23-168ec729e414>\u001b[0m in \u001b[0;36m<module>\u001b[1;34m\u001b[0m\n\u001b[0;32m      2\u001b[0m \u001b[1;32mwith\u001b[0m \u001b[0msqlite3\u001b[0m\u001b[1;33m.\u001b[0m\u001b[0mconnect\u001b[0m\u001b[1;33m(\u001b[0m\u001b[1;34m\"games.db\"\u001b[0m\u001b[1;33m)\u001b[0m \u001b[1;32mas\u001b[0m \u001b[0mconn\u001b[0m\u001b[1;33m:\u001b[0m\u001b[1;33m\u001b[0m\u001b[1;33m\u001b[0m\u001b[0m\n\u001b[0;32m      3\u001b[0m     \u001b[0mcursor\u001b[0m \u001b[1;33m=\u001b[0m \u001b[0mconn\u001b[0m\u001b[1;33m.\u001b[0m\u001b[0mcursor\u001b[0m\u001b[1;33m(\u001b[0m\u001b[1;33m)\u001b[0m\u001b[1;33m\u001b[0m\u001b[1;33m\u001b[0m\u001b[0m\n\u001b[1;32m----> 4\u001b[1;33m     cursor.execute('''SELECT * \n\u001b[0m\u001b[0;32m      5\u001b[0m                       \u001b[0mFROM\u001b[0m \u001b[0mtop_games\u001b[0m\u001b[1;33m\u001b[0m\u001b[1;33m\u001b[0m\u001b[0m\n\u001b[0;32m      6\u001b[0m                       \u001b[0mFULL\u001b[0m \u001b[0mOUTER\u001b[0m \u001b[0mJOIN\u001b[0m \u001b[0mgoogle_games\u001b[0m\u001b[1;33m\u001b[0m\u001b[1;33m\u001b[0m\u001b[0m\n",
      "\u001b[1;31mOperationalError\u001b[0m: RIGHT and FULL OUTER JOINs are not currently supported"
     ]
    }
   ],
   "source": [
    "# Use python to take the data from the three tables and join them into one dataset.\n",
    "with sqlite3.connect(\"games.db\") as conn:\n",
    "    cursor = conn.cursor()\n",
    "    cursor.execute('''SELECT * \n",
    "                      FROM top_games\n",
    "                      FULL OUTER JOIN google_games\n",
    "                          ON top_games.game = google_games.game\n",
    "                      FULL OUTER JOIN game_deals\n",
    "                          ON top_games.game = game_deals.game;''')\n",
    "    df = pd.DataFrame(cursor.fetchall())\n",
    "    df.columns = [x[0] for x in cursor.description]"
   ]
  },
  {
   "cell_type": "code",
   "execution_count": 25,
   "metadata": {
    "scrolled": true
   },
   "outputs": [
    {
     "ename": "OperationalError",
     "evalue": "near \"SELECT\": syntax error",
     "output_type": "error",
     "traceback": [
      "\u001b[1;31m---------------------------------------------------------------------------\u001b[0m",
      "\u001b[1;31mOperationalError\u001b[0m                          Traceback (most recent call last)",
      "\u001b[1;32m<ipython-input-25-c6466ec9c714>\u001b[0m in \u001b[0;36m<module>\u001b[1;34m\u001b[0m\n\u001b[0;32m      2\u001b[0m \u001b[1;32mwith\u001b[0m \u001b[0msqlite3\u001b[0m\u001b[1;33m.\u001b[0m\u001b[0mconnect\u001b[0m\u001b[1;33m(\u001b[0m\u001b[1;34m\"games.db\"\u001b[0m\u001b[1;33m)\u001b[0m \u001b[1;32mas\u001b[0m \u001b[0mconn\u001b[0m\u001b[1;33m:\u001b[0m\u001b[1;33m\u001b[0m\u001b[1;33m\u001b[0m\u001b[0m\n\u001b[0;32m      3\u001b[0m     \u001b[0mcursor\u001b[0m \u001b[1;33m=\u001b[0m \u001b[0mconn\u001b[0m\u001b[1;33m.\u001b[0m\u001b[0mcursor\u001b[0m\u001b[1;33m(\u001b[0m\u001b[1;33m)\u001b[0m\u001b[1;33m\u001b[0m\u001b[1;33m\u001b[0m\u001b[0m\n\u001b[1;32m----> 4\u001b[1;33m     cursor.execute('''SELECT *\n\u001b[0m\u001b[0;32m      5\u001b[0m                       \u001b[0mFROM\u001b[0m \u001b[0mtop_games\u001b[0m\u001b[1;33m\u001b[0m\u001b[1;33m\u001b[0m\u001b[0m\n\u001b[0;32m      6\u001b[0m                       \u001b[0mLEFT\u001b[0m \u001b[0mJOIN\u001b[0m \u001b[0mgoogle_games\u001b[0m\u001b[1;33m\u001b[0m\u001b[1;33m\u001b[0m\u001b[0m\n",
      "\u001b[1;31mOperationalError\u001b[0m: near \"SELECT\": syntax error"
     ]
    }
   ],
   "source": [
    "# Apparently, SQLite only has INNER and LEFT JOIN, but you can get around this using UNION ALL\n",
    "with sqlite3.connect(\"games.db\") as conn:\n",
    "    cursor = conn.cursor()\n",
    "    cursor.execute('''SELECT *\n",
    "                      FROM top_games\n",
    "                      LEFT JOIN google_games\n",
    "                          ON top_games.game = google_games.game\n",
    "                      UNION ALL\n",
    "                      SELECT *\n",
    "                      FROM google_games\n",
    "                      LEFT JOIN top_games\n",
    "                          ON top_games.game = google_games.game\n",
    "                      SELECT * \n",
    "                      FROM top_games\n",
    "                      LEFT JOIN game_deals\n",
    "                          ON top_games.game = game_deals.game\n",
    "                      UNION ALL\n",
    "                      SELECT *\n",
    "                      FROM game_deals\n",
    "                      LEFT JOIN top_games\n",
    "                          ON top_games.game = game_deals.game;''')\n",
    "    df = pd.DataFrame(cursor.fetchall())\n",
    "    df.columns = [x[0] for x in cursor.description]"
   ]
  },
  {
   "cell_type": "code",
   "execution_count": 38,
   "metadata": {},
   "outputs": [],
   "source": [
    "# I really wanted to join the tables in my SQL query and then save it as a dataframe, but I have to do an outer join \n",
    "# because I know there is data overlapping between all three tables, so now I guess I'll just pull each table out of \n",
    "# the database separately and save it as a pandas dataframe.\n",
    "con = sqlite3.connect(\"games.db\")\n",
    "df1 = pd.read_sql_query(\"SELECT * FROM top_games\", con)\n",
    "df2 = pd.read_sql_query(\"SELECT * FROM google_games\", con)\n",
    "df3 = pd.read_sql_query(\"SELECT * FROM game_deals\", con)\n",
    "con.close()"
   ]
  },
  {
   "cell_type": "code",
   "execution_count": 39,
   "metadata": {},
   "outputs": [
    {
     "data": {
      "text/html": [
       "<div>\n",
       "<style scoped>\n",
       "    .dataframe tbody tr th:only-of-type {\n",
       "        vertical-align: middle;\n",
       "    }\n",
       "\n",
       "    .dataframe tbody tr th {\n",
       "        vertical-align: top;\n",
       "    }\n",
       "\n",
       "    .dataframe thead th {\n",
       "        text-align: right;\n",
       "    }\n",
       "</style>\n",
       "<table border=\"1\" class=\"dataframe\">\n",
       "  <thead>\n",
       "    <tr style=\"text-align: right;\">\n",
       "      <th></th>\n",
       "      <th>top ranking</th>\n",
       "      <th>game</th>\n",
       "      <th>worldwide revenue</th>\n",
       "      <th>release date</th>\n",
       "      <th>publisher</th>\n",
       "      <th>genres</th>\n",
       "    </tr>\n",
       "  </thead>\n",
       "  <tbody>\n",
       "    <tr>\n",
       "      <th>0</th>\n",
       "      <td>1</td>\n",
       "      <td>monster strike</td>\n",
       "      <td>8239000000</td>\n",
       "      <td>august 8, 2013</td>\n",
       "      <td>mixi</td>\n",
       "      <td>physics / rpg / puzzle</td>\n",
       "    </tr>\n",
       "    <tr>\n",
       "      <th>1</th>\n",
       "      <td>2</td>\n",
       "      <td>honor of kings / arena of valor</td>\n",
       "      <td>7810200000</td>\n",
       "      <td>november 26, 2015</td>\n",
       "      <td>tencent games</td>\n",
       "      <td>moba</td>\n",
       "    </tr>\n",
       "    <tr>\n",
       "      <th>2</th>\n",
       "      <td>3</td>\n",
       "      <td>puzzle &amp; dragons</td>\n",
       "      <td>7712000000</td>\n",
       "      <td>february 20, 2012</td>\n",
       "      <td>gungho online entertainment</td>\n",
       "      <td>puzzle / rpg</td>\n",
       "    </tr>\n",
       "    <tr>\n",
       "      <th>3</th>\n",
       "      <td>4</td>\n",
       "      <td>clash of clans</td>\n",
       "      <td>7000000000</td>\n",
       "      <td>august 2, 2012</td>\n",
       "      <td>supercell (tencent)</td>\n",
       "      <td>strategy</td>\n",
       "    </tr>\n",
       "    <tr>\n",
       "      <th>4</th>\n",
       "      <td>5</td>\n",
       "      <td>candy crush saga</td>\n",
       "      <td>5410000000</td>\n",
       "      <td>november 14, 2012</td>\n",
       "      <td>king (activision blizzard)</td>\n",
       "      <td>puzzle</td>\n",
       "    </tr>\n",
       "  </tbody>\n",
       "</table>\n",
       "</div>"
      ],
      "text/plain": [
       "   top ranking                             game  worldwide revenue  \\\n",
       "0            1                   monster strike         8239000000   \n",
       "1            2  honor of kings / arena of valor         7810200000   \n",
       "2            3                 puzzle & dragons         7712000000   \n",
       "3            4                   clash of clans         7000000000   \n",
       "4            5                 candy crush saga         5410000000   \n",
       "\n",
       "        release date                    publisher                  genres  \n",
       "0     august 8, 2013                         mixi  physics / rpg / puzzle  \n",
       "1  november 26, 2015                tencent games                    moba  \n",
       "2  february 20, 2012  gungho online entertainment            puzzle / rpg  \n",
       "3     august 2, 2012          supercell (tencent)                strategy  \n",
       "4  november 14, 2012   king (activision blizzard)                  puzzle  "
      ]
     },
     "execution_count": 39,
     "metadata": {},
     "output_type": "execute_result"
    }
   ],
   "source": [
    "df1.head()"
   ]
  },
  {
   "cell_type": "code",
   "execution_count": 40,
   "metadata": {},
   "outputs": [
    {
     "data": {
      "text/html": [
       "<div>\n",
       "<style scoped>\n",
       "    .dataframe tbody tr th:only-of-type {\n",
       "        vertical-align: middle;\n",
       "    }\n",
       "\n",
       "    .dataframe tbody tr th {\n",
       "        vertical-align: top;\n",
       "    }\n",
       "\n",
       "    .dataframe thead th {\n",
       "        text-align: right;\n",
       "    }\n",
       "</style>\n",
       "<table border=\"1\" class=\"dataframe\">\n",
       "  <thead>\n",
       "    <tr style=\"text-align: right;\">\n",
       "      <th></th>\n",
       "      <th>google rating</th>\n",
       "      <th>game</th>\n",
       "      <th>google num reviews</th>\n",
       "      <th>google num installs</th>\n",
       "      <th>google price</th>\n",
       "      <th>content rating</th>\n",
       "      <th>genres</th>\n",
       "    </tr>\n",
       "  </thead>\n",
       "  <tbody>\n",
       "    <tr>\n",
       "      <th>0</th>\n",
       "      <td>4.5</td>\n",
       "      <td>roblox</td>\n",
       "      <td>4447388</td>\n",
       "      <td>100000000</td>\n",
       "      <td>0.0</td>\n",
       "      <td>everyone 10+</td>\n",
       "      <td>adventure;action &amp; adventure</td>\n",
       "    </tr>\n",
       "    <tr>\n",
       "      <th>1</th>\n",
       "      <td>4.5</td>\n",
       "      <td>subway surfers</td>\n",
       "      <td>27722264</td>\n",
       "      <td>1000000000</td>\n",
       "      <td>0.0</td>\n",
       "      <td>everyone 10+</td>\n",
       "      <td>arcade</td>\n",
       "    </tr>\n",
       "    <tr>\n",
       "      <th>2</th>\n",
       "      <td>4.4</td>\n",
       "      <td>candy crush saga</td>\n",
       "      <td>22426677</td>\n",
       "      <td>500000000</td>\n",
       "      <td>0.0</td>\n",
       "      <td>everyone</td>\n",
       "      <td>casual</td>\n",
       "    </tr>\n",
       "    <tr>\n",
       "      <th>3</th>\n",
       "      <td>4.7</td>\n",
       "      <td>solitaire</td>\n",
       "      <td>254258</td>\n",
       "      <td>10000000</td>\n",
       "      <td>0.0</td>\n",
       "      <td>everyone</td>\n",
       "      <td>card</td>\n",
       "    </tr>\n",
       "    <tr>\n",
       "      <th>4</th>\n",
       "      <td>4.5</td>\n",
       "      <td>bubble shooter</td>\n",
       "      <td>148897</td>\n",
       "      <td>10000000</td>\n",
       "      <td>0.0</td>\n",
       "      <td>everyone</td>\n",
       "      <td>casual</td>\n",
       "    </tr>\n",
       "  </tbody>\n",
       "</table>\n",
       "</div>"
      ],
      "text/plain": [
       "   google rating              game  google num reviews  google num installs  \\\n",
       "0            4.5            roblox             4447388            100000000   \n",
       "1            4.5    subway surfers            27722264           1000000000   \n",
       "2            4.4  candy crush saga            22426677            500000000   \n",
       "3            4.7         solitaire              254258             10000000   \n",
       "4            4.5    bubble shooter              148897             10000000   \n",
       "\n",
       "   google price content rating                        genres  \n",
       "0           0.0   everyone 10+  adventure;action & adventure  \n",
       "1           0.0   everyone 10+                        arcade  \n",
       "2           0.0       everyone                        casual  \n",
       "3           0.0       everyone                          card  \n",
       "4           0.0       everyone                        casual  "
      ]
     },
     "execution_count": 40,
     "metadata": {},
     "output_type": "execute_result"
    }
   ],
   "source": [
    "df2.head()"
   ]
  },
  {
   "cell_type": "code",
   "execution_count": 41,
   "metadata": {},
   "outputs": [
    {
     "data": {
      "text/html": [
       "<div>\n",
       "<style scoped>\n",
       "    .dataframe tbody tr th:only-of-type {\n",
       "        vertical-align: middle;\n",
       "    }\n",
       "\n",
       "    .dataframe tbody tr th {\n",
       "        vertical-align: top;\n",
       "    }\n",
       "\n",
       "    .dataframe thead th {\n",
       "        text-align: right;\n",
       "    }\n",
       "</style>\n",
       "<table border=\"1\" class=\"dataframe\">\n",
       "  <thead>\n",
       "    <tr style=\"text-align: right;\">\n",
       "      <th></th>\n",
       "      <th>game</th>\n",
       "      <th>cheapshark id</th>\n",
       "      <th>sale price</th>\n",
       "      <th>reg price</th>\n",
       "      <th>percent savings</th>\n",
       "      <th>critic score</th>\n",
       "      <th>rating disposition</th>\n",
       "      <th>steam rating</th>\n",
       "      <th>steam num reviews</th>\n",
       "      <th>deal rating</th>\n",
       "    </tr>\n",
       "  </thead>\n",
       "  <tbody>\n",
       "    <tr>\n",
       "      <th>0</th>\n",
       "      <td>naruto to boruto shinobi striker - deluxe edition</td>\n",
       "      <td>189692</td>\n",
       "      <td>11.99</td>\n",
       "      <td>79.98</td>\n",
       "      <td>85</td>\n",
       "      <td>0</td>\n",
       "      <td>none</td>\n",
       "      <td>0</td>\n",
       "      <td>0</td>\n",
       "      <td>10.0</td>\n",
       "    </tr>\n",
       "    <tr>\n",
       "      <th>1</th>\n",
       "      <td>ni no kuni ii: revenant kingdom - the prince's...</td>\n",
       "      <td>171780</td>\n",
       "      <td>11.99</td>\n",
       "      <td>79.98</td>\n",
       "      <td>85</td>\n",
       "      <td>0</td>\n",
       "      <td>none</td>\n",
       "      <td>0</td>\n",
       "      <td>0</td>\n",
       "      <td>10.0</td>\n",
       "    </tr>\n",
       "    <tr>\n",
       "      <th>2</th>\n",
       "      <td>project cars 2 - deluxe edition</td>\n",
       "      <td>170776</td>\n",
       "      <td>13.49</td>\n",
       "      <td>89.99</td>\n",
       "      <td>85</td>\n",
       "      <td>0</td>\n",
       "      <td>none</td>\n",
       "      <td>0</td>\n",
       "      <td>0</td>\n",
       "      <td>10.0</td>\n",
       "    </tr>\n",
       "    <tr>\n",
       "      <th>3</th>\n",
       "      <td>dragon ball fighter z  fighterz edition</td>\n",
       "      <td>174472</td>\n",
       "      <td>14.24</td>\n",
       "      <td>94.98</td>\n",
       "      <td>85</td>\n",
       "      <td>0</td>\n",
       "      <td>none</td>\n",
       "      <td>0</td>\n",
       "      <td>0</td>\n",
       "      <td>10.0</td>\n",
       "    </tr>\n",
       "    <tr>\n",
       "      <th>4</th>\n",
       "      <td>dragon ball fighter z  ultimate edition</td>\n",
       "      <td>174473</td>\n",
       "      <td>16.49</td>\n",
       "      <td>109.97</td>\n",
       "      <td>85</td>\n",
       "      <td>0</td>\n",
       "      <td>none</td>\n",
       "      <td>0</td>\n",
       "      <td>0</td>\n",
       "      <td>10.0</td>\n",
       "    </tr>\n",
       "  </tbody>\n",
       "</table>\n",
       "</div>"
      ],
      "text/plain": [
       "                                                game  cheapshark id  \\\n",
       "0  naruto to boruto shinobi striker - deluxe edition         189692   \n",
       "1  ni no kuni ii: revenant kingdom - the prince's...         171780   \n",
       "2                    project cars 2 - deluxe edition         170776   \n",
       "3            dragon ball fighter z  fighterz edition         174472   \n",
       "4            dragon ball fighter z  ultimate edition         174473   \n",
       "\n",
       "   sale price  reg price  percent savings  critic score rating disposition  \\\n",
       "0       11.99      79.98               85             0               none   \n",
       "1       11.99      79.98               85             0               none   \n",
       "2       13.49      89.99               85             0               none   \n",
       "3       14.24      94.98               85             0               none   \n",
       "4       16.49     109.97               85             0               none   \n",
       "\n",
       "   steam rating  steam num reviews  deal rating  \n",
       "0             0                  0         10.0  \n",
       "1             0                  0         10.0  \n",
       "2             0                  0         10.0  \n",
       "3             0                  0         10.0  \n",
       "4             0                  0         10.0  "
      ]
     },
     "execution_count": 41,
     "metadata": {},
     "output_type": "execute_result"
    }
   ],
   "source": [
    "df3.head()"
   ]
  },
  {
   "cell_type": "code",
   "execution_count": 43,
   "metadata": {},
   "outputs": [],
   "source": [
    "# Now I will use python to join my 3 dataframes\n",
    "final_df = df1.merge(df2,on='game', how='outer').merge(df3,on='game', how='outer')"
   ]
  },
  {
   "cell_type": "code",
   "execution_count": 46,
   "metadata": {},
   "outputs": [
    {
     "data": {
      "text/html": [
       "<div>\n",
       "<style scoped>\n",
       "    .dataframe tbody tr th:only-of-type {\n",
       "        vertical-align: middle;\n",
       "    }\n",
       "\n",
       "    .dataframe tbody tr th {\n",
       "        vertical-align: top;\n",
       "    }\n",
       "\n",
       "    .dataframe thead th {\n",
       "        text-align: right;\n",
       "    }\n",
       "</style>\n",
       "<table border=\"1\" class=\"dataframe\">\n",
       "  <thead>\n",
       "    <tr style=\"text-align: right;\">\n",
       "      <th></th>\n",
       "      <th>top ranking</th>\n",
       "      <th>game</th>\n",
       "      <th>worldwide revenue</th>\n",
       "      <th>release date</th>\n",
       "      <th>publisher</th>\n",
       "      <th>genres_x</th>\n",
       "      <th>google rating</th>\n",
       "      <th>google num reviews</th>\n",
       "      <th>google num installs</th>\n",
       "      <th>google price</th>\n",
       "      <th>...</th>\n",
       "      <th>genres_y</th>\n",
       "      <th>cheapshark id</th>\n",
       "      <th>sale price</th>\n",
       "      <th>reg price</th>\n",
       "      <th>percent savings</th>\n",
       "      <th>critic score</th>\n",
       "      <th>rating disposition</th>\n",
       "      <th>steam rating</th>\n",
       "      <th>steam num reviews</th>\n",
       "      <th>deal rating</th>\n",
       "    </tr>\n",
       "  </thead>\n",
       "  <tbody>\n",
       "    <tr>\n",
       "      <th>0</th>\n",
       "      <td>1.0</td>\n",
       "      <td>monster strike</td>\n",
       "      <td>8.239000e+09</td>\n",
       "      <td>august 8, 2013</td>\n",
       "      <td>mixi</td>\n",
       "      <td>physics / rpg / puzzle</td>\n",
       "      <td>NaN</td>\n",
       "      <td>NaN</td>\n",
       "      <td>NaN</td>\n",
       "      <td>NaN</td>\n",
       "      <td>...</td>\n",
       "      <td>NaN</td>\n",
       "      <td>NaN</td>\n",
       "      <td>NaN</td>\n",
       "      <td>NaN</td>\n",
       "      <td>NaN</td>\n",
       "      <td>NaN</td>\n",
       "      <td>NaN</td>\n",
       "      <td>NaN</td>\n",
       "      <td>NaN</td>\n",
       "      <td>NaN</td>\n",
       "    </tr>\n",
       "    <tr>\n",
       "      <th>1</th>\n",
       "      <td>2.0</td>\n",
       "      <td>honor of kings / arena of valor</td>\n",
       "      <td>7.810200e+09</td>\n",
       "      <td>november 26, 2015</td>\n",
       "      <td>tencent games</td>\n",
       "      <td>moba</td>\n",
       "      <td>NaN</td>\n",
       "      <td>NaN</td>\n",
       "      <td>NaN</td>\n",
       "      <td>NaN</td>\n",
       "      <td>...</td>\n",
       "      <td>NaN</td>\n",
       "      <td>NaN</td>\n",
       "      <td>NaN</td>\n",
       "      <td>NaN</td>\n",
       "      <td>NaN</td>\n",
       "      <td>NaN</td>\n",
       "      <td>NaN</td>\n",
       "      <td>NaN</td>\n",
       "      <td>NaN</td>\n",
       "      <td>NaN</td>\n",
       "    </tr>\n",
       "    <tr>\n",
       "      <th>2</th>\n",
       "      <td>3.0</td>\n",
       "      <td>puzzle &amp; dragons</td>\n",
       "      <td>7.712000e+09</td>\n",
       "      <td>february 20, 2012</td>\n",
       "      <td>gungho online entertainment</td>\n",
       "      <td>puzzle / rpg</td>\n",
       "      <td>NaN</td>\n",
       "      <td>NaN</td>\n",
       "      <td>NaN</td>\n",
       "      <td>NaN</td>\n",
       "      <td>...</td>\n",
       "      <td>NaN</td>\n",
       "      <td>NaN</td>\n",
       "      <td>NaN</td>\n",
       "      <td>NaN</td>\n",
       "      <td>NaN</td>\n",
       "      <td>NaN</td>\n",
       "      <td>NaN</td>\n",
       "      <td>NaN</td>\n",
       "      <td>NaN</td>\n",
       "      <td>NaN</td>\n",
       "    </tr>\n",
       "    <tr>\n",
       "      <th>3</th>\n",
       "      <td>4.0</td>\n",
       "      <td>clash of clans</td>\n",
       "      <td>7.000000e+09</td>\n",
       "      <td>august 2, 2012</td>\n",
       "      <td>supercell (tencent)</td>\n",
       "      <td>strategy</td>\n",
       "      <td>4.6</td>\n",
       "      <td>44891723.0</td>\n",
       "      <td>100000000.0</td>\n",
       "      <td>0.0</td>\n",
       "      <td>...</td>\n",
       "      <td>strategy</td>\n",
       "      <td>NaN</td>\n",
       "      <td>NaN</td>\n",
       "      <td>NaN</td>\n",
       "      <td>NaN</td>\n",
       "      <td>NaN</td>\n",
       "      <td>NaN</td>\n",
       "      <td>NaN</td>\n",
       "      <td>NaN</td>\n",
       "      <td>NaN</td>\n",
       "    </tr>\n",
       "    <tr>\n",
       "      <th>4</th>\n",
       "      <td>5.0</td>\n",
       "      <td>candy crush saga</td>\n",
       "      <td>5.410000e+09</td>\n",
       "      <td>november 14, 2012</td>\n",
       "      <td>king (activision blizzard)</td>\n",
       "      <td>puzzle</td>\n",
       "      <td>4.4</td>\n",
       "      <td>22426677.0</td>\n",
       "      <td>500000000.0</td>\n",
       "      <td>0.0</td>\n",
       "      <td>...</td>\n",
       "      <td>casual</td>\n",
       "      <td>NaN</td>\n",
       "      <td>NaN</td>\n",
       "      <td>NaN</td>\n",
       "      <td>NaN</td>\n",
       "      <td>NaN</td>\n",
       "      <td>NaN</td>\n",
       "      <td>NaN</td>\n",
       "      <td>NaN</td>\n",
       "      <td>NaN</td>\n",
       "    </tr>\n",
       "  </tbody>\n",
       "</table>\n",
       "<p>5 rows × 21 columns</p>\n",
       "</div>"
      ],
      "text/plain": [
       "   top ranking                             game  worldwide revenue  \\\n",
       "0          1.0                   monster strike       8.239000e+09   \n",
       "1          2.0  honor of kings / arena of valor       7.810200e+09   \n",
       "2          3.0                 puzzle & dragons       7.712000e+09   \n",
       "3          4.0                   clash of clans       7.000000e+09   \n",
       "4          5.0                 candy crush saga       5.410000e+09   \n",
       "\n",
       "        release date                    publisher                genres_x  \\\n",
       "0     august 8, 2013                         mixi  physics / rpg / puzzle   \n",
       "1  november 26, 2015                tencent games                    moba   \n",
       "2  february 20, 2012  gungho online entertainment            puzzle / rpg   \n",
       "3     august 2, 2012          supercell (tencent)                strategy   \n",
       "4  november 14, 2012   king (activision blizzard)                  puzzle   \n",
       "\n",
       "   google rating  google num reviews  google num installs  google price  ...  \\\n",
       "0            NaN                 NaN                  NaN           NaN  ...   \n",
       "1            NaN                 NaN                  NaN           NaN  ...   \n",
       "2            NaN                 NaN                  NaN           NaN  ...   \n",
       "3            4.6          44891723.0          100000000.0           0.0  ...   \n",
       "4            4.4          22426677.0          500000000.0           0.0  ...   \n",
       "\n",
       "   genres_y cheapshark id  sale price  reg price  percent savings  \\\n",
       "0       NaN           NaN         NaN        NaN              NaN   \n",
       "1       NaN           NaN         NaN        NaN              NaN   \n",
       "2       NaN           NaN         NaN        NaN              NaN   \n",
       "3  strategy           NaN         NaN        NaN              NaN   \n",
       "4    casual           NaN         NaN        NaN              NaN   \n",
       "\n",
       "   critic score  rating disposition steam rating  steam num reviews  \\\n",
       "0           NaN                 NaN          NaN                NaN   \n",
       "1           NaN                 NaN          NaN                NaN   \n",
       "2           NaN                 NaN          NaN                NaN   \n",
       "3           NaN                 NaN          NaN                NaN   \n",
       "4           NaN                 NaN          NaN                NaN   \n",
       "\n",
       "   deal rating  \n",
       "0          NaN  \n",
       "1          NaN  \n",
       "2          NaN  \n",
       "3          NaN  \n",
       "4          NaN  \n",
       "\n",
       "[5 rows x 21 columns]"
      ]
     },
     "execution_count": 46,
     "metadata": {},
     "output_type": "execute_result"
    }
   ],
   "source": [
    "final_df.head()"
   ]
  },
  {
   "cell_type": "code",
   "execution_count": 71,
   "metadata": {},
   "outputs": [
    {
     "data": {
      "text/html": [
       "<div>\n",
       "<style scoped>\n",
       "    .dataframe tbody tr th:only-of-type {\n",
       "        vertical-align: middle;\n",
       "    }\n",
       "\n",
       "    .dataframe tbody tr th {\n",
       "        vertical-align: top;\n",
       "    }\n",
       "\n",
       "    .dataframe thead th {\n",
       "        text-align: right;\n",
       "    }\n",
       "</style>\n",
       "<table border=\"1\" class=\"dataframe\">\n",
       "  <thead>\n",
       "    <tr style=\"text-align: right;\">\n",
       "      <th></th>\n",
       "      <th>top ranking</th>\n",
       "      <th>game</th>\n",
       "      <th>worldwide revenue</th>\n",
       "      <th>release date</th>\n",
       "      <th>publisher</th>\n",
       "      <th>genres_x</th>\n",
       "      <th>google rating</th>\n",
       "      <th>google num reviews</th>\n",
       "      <th>google num installs</th>\n",
       "      <th>google price</th>\n",
       "      <th>content rating</th>\n",
       "      <th>genres_y</th>\n",
       "    </tr>\n",
       "  </thead>\n",
       "  <tbody>\n",
       "    <tr>\n",
       "      <th>0</th>\n",
       "      <td>4</td>\n",
       "      <td>clash of clans</td>\n",
       "      <td>7000000000</td>\n",
       "      <td>august 2, 2012</td>\n",
       "      <td>supercell (tencent)</td>\n",
       "      <td>strategy</td>\n",
       "      <td>4.6</td>\n",
       "      <td>44891723</td>\n",
       "      <td>100000000</td>\n",
       "      <td>0.0</td>\n",
       "      <td>everyone 10+</td>\n",
       "      <td>strategy</td>\n",
       "    </tr>\n",
       "    <tr>\n",
       "      <th>1</th>\n",
       "      <td>5</td>\n",
       "      <td>candy crush saga</td>\n",
       "      <td>5410000000</td>\n",
       "      <td>november 14, 2012</td>\n",
       "      <td>king (activision blizzard)</td>\n",
       "      <td>puzzle</td>\n",
       "      <td>4.4</td>\n",
       "      <td>22426677</td>\n",
       "      <td>500000000</td>\n",
       "      <td>0.0</td>\n",
       "      <td>everyone</td>\n",
       "      <td>casual</td>\n",
       "    </tr>\n",
       "    <tr>\n",
       "      <th>2</th>\n",
       "      <td>6</td>\n",
       "      <td>pokémon go</td>\n",
       "      <td>4803400000</td>\n",
       "      <td>july 6, 2016</td>\n",
       "      <td>niantic / pokémon company (nintendo / game fre...</td>\n",
       "      <td>augmented reality</td>\n",
       "      <td>4.1</td>\n",
       "      <td>10424925</td>\n",
       "      <td>100000000</td>\n",
       "      <td>0.0</td>\n",
       "      <td>everyone</td>\n",
       "      <td>adventure</td>\n",
       "    </tr>\n",
       "    <tr>\n",
       "      <th>3</th>\n",
       "      <td>9</td>\n",
       "      <td>clash royale</td>\n",
       "      <td>3000000000</td>\n",
       "      <td>march 2, 2016</td>\n",
       "      <td>supercell (tencent)</td>\n",
       "      <td>real-time strategy</td>\n",
       "      <td>4.6</td>\n",
       "      <td>23133508</td>\n",
       "      <td>100000000</td>\n",
       "      <td>0.0</td>\n",
       "      <td>everyone 10+</td>\n",
       "      <td>strategy</td>\n",
       "    </tr>\n",
       "    <tr>\n",
       "      <th>4</th>\n",
       "      <td>14</td>\n",
       "      <td>candy crush soda saga</td>\n",
       "      <td>2000000000</td>\n",
       "      <td>october 20, 2014</td>\n",
       "      <td>king (activision blizzard)</td>\n",
       "      <td>puzzle</td>\n",
       "      <td>4.4</td>\n",
       "      <td>6198563</td>\n",
       "      <td>100000000</td>\n",
       "      <td>0.0</td>\n",
       "      <td>everyone</td>\n",
       "      <td>casual</td>\n",
       "    </tr>\n",
       "    <tr>\n",
       "      <th>5</th>\n",
       "      <td>16</td>\n",
       "      <td>gardenscapes</td>\n",
       "      <td>1900000000</td>\n",
       "      <td>august 2016</td>\n",
       "      <td>playrix</td>\n",
       "      <td>puzzle</td>\n",
       "      <td>4.6</td>\n",
       "      <td>4128732</td>\n",
       "      <td>50000000</td>\n",
       "      <td>0.0</td>\n",
       "      <td>everyone</td>\n",
       "      <td>casual</td>\n",
       "    </tr>\n",
       "    <tr>\n",
       "      <th>6</th>\n",
       "      <td>17</td>\n",
       "      <td>lineage 2: revolution</td>\n",
       "      <td>1795990000</td>\n",
       "      <td>december 14, 2017</td>\n",
       "      <td>netmarble games / ncsoft</td>\n",
       "      <td>mmorpg</td>\n",
       "      <td>4.2</td>\n",
       "      <td>187972</td>\n",
       "      <td>5000000</td>\n",
       "      <td>0.0</td>\n",
       "      <td>teen</td>\n",
       "      <td>role playing</td>\n",
       "    </tr>\n",
       "    <tr>\n",
       "      <th>7</th>\n",
       "      <td>21</td>\n",
       "      <td>homescapes</td>\n",
       "      <td>1400000000</td>\n",
       "      <td>september 2017</td>\n",
       "      <td>playrix</td>\n",
       "      <td>puzzle</td>\n",
       "      <td>4.6</td>\n",
       "      <td>3093358</td>\n",
       "      <td>10000000</td>\n",
       "      <td>0.0</td>\n",
       "      <td>everyone</td>\n",
       "      <td>casual</td>\n",
       "    </tr>\n",
       "    <tr>\n",
       "      <th>8</th>\n",
       "      <td>23</td>\n",
       "      <td>garena free fire</td>\n",
       "      <td>1395000000</td>\n",
       "      <td>december 4, 2017</td>\n",
       "      <td>garena</td>\n",
       "      <td>battle royale</td>\n",
       "      <td>4.5</td>\n",
       "      <td>5465624</td>\n",
       "      <td>100000000</td>\n",
       "      <td>0.0</td>\n",
       "      <td>teen</td>\n",
       "      <td>action</td>\n",
       "    </tr>\n",
       "    <tr>\n",
       "      <th>9</th>\n",
       "      <td>26</td>\n",
       "      <td>toon blast</td>\n",
       "      <td>1000000000</td>\n",
       "      <td>2017</td>\n",
       "      <td>peak games</td>\n",
       "      <td>puzzle</td>\n",
       "      <td>4.7</td>\n",
       "      <td>1351068</td>\n",
       "      <td>10000000</td>\n",
       "      <td>0.0</td>\n",
       "      <td>everyone</td>\n",
       "      <td>puzzle</td>\n",
       "    </tr>\n",
       "    <tr>\n",
       "      <th>10</th>\n",
       "      <td>35</td>\n",
       "      <td>fishdom</td>\n",
       "      <td>701600000</td>\n",
       "      <td>None</td>\n",
       "      <td>playrix</td>\n",
       "      <td>None</td>\n",
       "      <td>4.6</td>\n",
       "      <td>2157930</td>\n",
       "      <td>10000000</td>\n",
       "      <td>0.0</td>\n",
       "      <td>everyone</td>\n",
       "      <td>puzzle</td>\n",
       "    </tr>\n",
       "    <tr>\n",
       "      <th>11</th>\n",
       "      <td>44</td>\n",
       "      <td>final fantasy xv: a new empire</td>\n",
       "      <td>518400000</td>\n",
       "      <td>june 29, 2017</td>\n",
       "      <td>machine zone / square enix</td>\n",
       "      <td>strategy</td>\n",
       "      <td>4.0</td>\n",
       "      <td>484981</td>\n",
       "      <td>10000000</td>\n",
       "      <td>0.0</td>\n",
       "      <td>everyone 10+</td>\n",
       "      <td>strategy</td>\n",
       "    </tr>\n",
       "    <tr>\n",
       "      <th>12</th>\n",
       "      <td>49</td>\n",
       "      <td>8 ball pool</td>\n",
       "      <td>400000000</td>\n",
       "      <td>october 2010</td>\n",
       "      <td>miniclip</td>\n",
       "      <td>sports (pool)</td>\n",
       "      <td>4.5</td>\n",
       "      <td>14198297</td>\n",
       "      <td>100000000</td>\n",
       "      <td>0.0</td>\n",
       "      <td>everyone</td>\n",
       "      <td>sports</td>\n",
       "    </tr>\n",
       "    <tr>\n",
       "      <th>13</th>\n",
       "      <td>50</td>\n",
       "      <td>mobile legends: bang bang</td>\n",
       "      <td>350000000</td>\n",
       "      <td>july 11, 2016</td>\n",
       "      <td>moonton</td>\n",
       "      <td>moba</td>\n",
       "      <td>4.4</td>\n",
       "      <td>8219586</td>\n",
       "      <td>100000000</td>\n",
       "      <td>0.0</td>\n",
       "      <td>teen</td>\n",
       "      <td>action</td>\n",
       "    </tr>\n",
       "    <tr>\n",
       "      <th>14</th>\n",
       "      <td>54</td>\n",
       "      <td>harry potter: hogwarts mystery</td>\n",
       "      <td>110000000</td>\n",
       "      <td>april 25, 2018</td>\n",
       "      <td>jam city</td>\n",
       "      <td>rpg</td>\n",
       "      <td>4.4</td>\n",
       "      <td>1107310</td>\n",
       "      <td>10000000</td>\n",
       "      <td>0.0</td>\n",
       "      <td>teen</td>\n",
       "      <td>adventure</td>\n",
       "    </tr>\n",
       "    <tr>\n",
       "      <th>15</th>\n",
       "      <td>56</td>\n",
       "      <td>fallout shelter</td>\n",
       "      <td>100000000</td>\n",
       "      <td>june 14, 2015</td>\n",
       "      <td>bethesda softworks</td>\n",
       "      <td>simulation (cms)</td>\n",
       "      <td>4.6</td>\n",
       "      <td>2719142</td>\n",
       "      <td>10000000</td>\n",
       "      <td>0.0</td>\n",
       "      <td>teen</td>\n",
       "      <td>simulation</td>\n",
       "    </tr>\n",
       "  </tbody>\n",
       "</table>\n",
       "</div>"
      ],
      "text/plain": [
       "    top ranking                            game  worldwide revenue  \\\n",
       "0             4                  clash of clans         7000000000   \n",
       "1             5                candy crush saga         5410000000   \n",
       "2             6                      pokémon go         4803400000   \n",
       "3             9                    clash royale         3000000000   \n",
       "4            14           candy crush soda saga         2000000000   \n",
       "5            16                    gardenscapes         1900000000   \n",
       "6            17           lineage 2: revolution         1795990000   \n",
       "7            21                      homescapes         1400000000   \n",
       "8            23                garena free fire         1395000000   \n",
       "9            26                      toon blast         1000000000   \n",
       "10           35                         fishdom          701600000   \n",
       "11           44  final fantasy xv: a new empire          518400000   \n",
       "12           49                     8 ball pool          400000000   \n",
       "13           50       mobile legends: bang bang          350000000   \n",
       "14           54  harry potter: hogwarts mystery          110000000   \n",
       "15           56                 fallout shelter          100000000   \n",
       "\n",
       "         release date                                          publisher  \\\n",
       "0      august 2, 2012                                supercell (tencent)   \n",
       "1   november 14, 2012                         king (activision blizzard)   \n",
       "2        july 6, 2016  niantic / pokémon company (nintendo / game fre...   \n",
       "3       march 2, 2016                                supercell (tencent)   \n",
       "4    october 20, 2014                         king (activision blizzard)   \n",
       "5         august 2016                                            playrix   \n",
       "6   december 14, 2017                           netmarble games / ncsoft   \n",
       "7      september 2017                                            playrix   \n",
       "8    december 4, 2017                                             garena   \n",
       "9                2017                                         peak games   \n",
       "10               None                                            playrix   \n",
       "11      june 29, 2017                         machine zone / square enix   \n",
       "12       october 2010                                           miniclip   \n",
       "13      july 11, 2016                                            moonton   \n",
       "14     april 25, 2018                                           jam city   \n",
       "15      june 14, 2015                                 bethesda softworks   \n",
       "\n",
       "              genres_x  google rating  google num reviews  \\\n",
       "0             strategy            4.6            44891723   \n",
       "1               puzzle            4.4            22426677   \n",
       "2    augmented reality            4.1            10424925   \n",
       "3   real-time strategy            4.6            23133508   \n",
       "4               puzzle            4.4             6198563   \n",
       "5               puzzle            4.6             4128732   \n",
       "6               mmorpg            4.2              187972   \n",
       "7               puzzle            4.6             3093358   \n",
       "8        battle royale            4.5             5465624   \n",
       "9               puzzle            4.7             1351068   \n",
       "10                None            4.6             2157930   \n",
       "11            strategy            4.0              484981   \n",
       "12       sports (pool)            4.5            14198297   \n",
       "13                moba            4.4             8219586   \n",
       "14                 rpg            4.4             1107310   \n",
       "15    simulation (cms)            4.6             2719142   \n",
       "\n",
       "    google num installs  google price content rating      genres_y  \n",
       "0             100000000           0.0   everyone 10+      strategy  \n",
       "1             500000000           0.0       everyone        casual  \n",
       "2             100000000           0.0       everyone     adventure  \n",
       "3             100000000           0.0   everyone 10+      strategy  \n",
       "4             100000000           0.0       everyone        casual  \n",
       "5              50000000           0.0       everyone        casual  \n",
       "6               5000000           0.0           teen  role playing  \n",
       "7              10000000           0.0       everyone        casual  \n",
       "8             100000000           0.0           teen        action  \n",
       "9              10000000           0.0       everyone        puzzle  \n",
       "10             10000000           0.0       everyone        puzzle  \n",
       "11             10000000           0.0   everyone 10+      strategy  \n",
       "12            100000000           0.0       everyone        sports  \n",
       "13            100000000           0.0           teen        action  \n",
       "14             10000000           0.0           teen     adventure  \n",
       "15             10000000           0.0           teen    simulation  "
      ]
     },
     "execution_count": 71,
     "metadata": {},
     "output_type": "execute_result"
    }
   ],
   "source": [
    "# Since I know my third df doesn't have any overlap because they are PC games vs mobile games, I just want to see how \n",
    "# much overlap there was with my first two dfs by doing an inner join. \n",
    "inner_df = df1.merge(df2,on='game')\n",
    "inner_df"
   ]
  },
  {
   "cell_type": "code",
   "execution_count": 52,
   "metadata": {},
   "outputs": [],
   "source": [
    "# Cool. Man, I wish I was able to get the iOS data, that would have really brought this project together.  "
   ]
  },
  {
   "cell_type": "markdown",
   "metadata": {},
   "source": [
    "***Visualizations***"
   ]
  },
  {
   "cell_type": "code",
   "execution_count": 101,
   "metadata": {},
   "outputs": [],
   "source": [
    "# import necessary libraries\n",
    "import matplotlib.pyplot as plt"
   ]
  },
  {
   "cell_type": "code",
   "execution_count": 108,
   "metadata": {
    "scrolled": true
   },
   "outputs": [
    {
     "data": {
      "image/png": "[encoded data removed]",
      "text/plain": [
       "<Figure size 432x288 with 1 Axes>"
      ]
     },
     "metadata": {
      "needs_background": "light"
     },
     "output_type": "display_data"
    },
    {
     "data": {
      "text/plain": [
       "<Figure size 432x288 with 0 Axes>"
      ]
     },
     "metadata": {},
     "output_type": "display_data"
    }
   ],
   "source": [
    "# Plot histogram of google game rating\n",
    "plt.hist(df2['google rating'])\n",
    "plt.title(\"Histogram of Google Game Ratings\")\n",
    "plt.xlabel(\"Google Game Rating\")\n",
    "plt.ylabel(\"Frequency\")\n",
    "plt.show()\n",
    "plt.savefig(\"Histogram_Ratings.pdf\")"
   ]
  },
  {
   "cell_type": "code",
   "execution_count": 113,
   "metadata": {},
   "outputs": [
    {
     "data": {
      "image/png": "[encoded data removed]",
      "text/plain": [
       "<Figure size 432x288 with 1 Axes>"
      ]
     },
     "metadata": {
      "needs_background": "light"
     },
     "output_type": "display_data"
    },
    {
     "data": {
      "text/plain": [
       "<Figure size 432x288 with 0 Axes>"
      ]
     },
     "metadata": {},
     "output_type": "display_data"
    }
   ],
   "source": [
    "# Scatterplot of the number of reviews on games by the game rating\n",
    "plt.scatter(df2['google rating'], df2['google num reviews'] / 1000000)\n",
    "plt.title(\"Number of Reviews by Google Rating\")\n",
    "plt.xlabel(\"Google Game Rating\")\n",
    "plt.ylabel(\"Number of Reviews (in millions)\")\n",
    "plt.show()\n",
    "plt.savefig(\"Scatterplot Reviews by Ratings.pdf\")"
   ]
  },
  {
   "cell_type": "code",
   "execution_count": 110,
   "metadata": {
    "scrolled": true
   },
   "outputs": [
    {
     "data": {
      "image/png": "[encoded data removed]",
      "text/plain": [
       "<Figure size 432x288 with 1 Axes>"
      ]
     },
     "metadata": {
      "needs_background": "light"
     },
     "output_type": "display_data"
    },
    {
     "data": {
      "text/plain": [
       "<Figure size 432x288 with 0 Axes>"
      ]
     },
     "metadata": {},
     "output_type": "display_data"
    }
   ],
   "source": [
    "# Use data from the combined df to make a scatter plot of the google rating of the 15 games that overlap with \n",
    "# the top game listing\n",
    "plt.scatter(final_df['top ranking'], final_df['google rating'])\n",
    "plt.title(\"Google Rating of Top Ranked Games\")\n",
    "plt.xlabel(\"Rank in Top Games\")\n",
    "plt.ylabel(\"Google Game Rating\")\n",
    "plt.show()\n",
    "plt.savefig(\"Scatterplot Ratings by Rank.pdf\")"
   ]
  },
  {
   "cell_type": "code",
   "execution_count": 86,
   "metadata": {},
   "outputs": [],
   "source": [
    "# I want to look at the worldwide revenue by the number of google installs, so I'm going to divide installs by millions\n",
    "# and revenue by billions to create new variables that will look better in the plot\n",
    "inner_df['revenue_in_billions'] = inner_df['worldwide revenue'] / 1000000000\n",
    "inner_df['installs_in_millions'] = inner_df['google num installs'] / 1000000"
   ]
  },
  {
   "cell_type": "code",
   "execution_count": 111,
   "metadata": {
    "scrolled": true
   },
   "outputs": [
    {
     "data": {
      "image/png": "[encoded data removed]",
      "text/plain": [
       "<Figure size 432x288 with 1 Axes>"
      ]
     },
     "metadata": {
      "needs_background": "light"
     },
     "output_type": "display_data"
    },
    {
     "data": {
      "text/plain": [
       "<Figure size 432x288 with 0 Axes>"
      ]
     },
     "metadata": {},
     "output_type": "display_data"
    }
   ],
   "source": [
    "plt.scatter(inner_df['installs_in_millions'], inner_df['revenue_in_billions'])\n",
    "plt.title(\"Worldwide Revenue by Number of Google Installs\")\n",
    "plt.xlabel(\"Number of Google Installs (in millions)\")\n",
    "plt.ylabel(\"Worldwide Revenue (in billions)\")\n",
    "plt.show()\n",
    "plt.savefig(\"Scatterplot Revenue by Installs.pdf\")"
   ]
  },
  {
   "cell_type": "code",
   "execution_count": 112,
   "metadata": {},
   "outputs": [
    {
     "data": {
      "image/png": "[encoded data removed]",
      "text/plain": [
       "<Figure size 432x288 with 1 Axes>"
      ]
     },
     "metadata": {
      "needs_background": "light"
     },
     "output_type": "display_data"
    },
    {
     "data": {
      "text/plain": [
       "<Figure size 432x288 with 0 Axes>"
      ]
     },
     "metadata": {},
     "output_type": "display_data"
    }
   ],
   "source": [
    "plt.scatter(df3['reg price'], df3['sale price'])\n",
    "plt.title(\"Sale Price by Regular Price\")\n",
    "plt.xlabel(\"Regular Price (in dollars)\")\n",
    "plt.ylabel(\"Sale Price (in dollars)\")\n",
    "plt.show()\n",
    "plt.savefig(\"Scatterplot Sale Price by Regular Price.pdf\")"
   ]
  },
  {
   "cell_type": "code",
   "execution_count": null,
   "metadata": {},
   "outputs": [],
   "source": []
  }
 ],
 "metadata": {
  "kernelspec": {
   "display_name": "Python 3",
   "language": "python",
   "name": "python3"
  },
  "language_info": {
   "codemirror_mode": {
    "name": "ipython",
    "version": 3
   },
   "file_extension": ".py",
   "mimetype": "text/x-python",
   "name": "python",
   "nbconvert_exporter": "python",
   "pygments_lexer": "ipython3",
   "version": "3.8.3"
  }
 },
 "nbformat": 4,
 "nbformat_minor": 4
}
